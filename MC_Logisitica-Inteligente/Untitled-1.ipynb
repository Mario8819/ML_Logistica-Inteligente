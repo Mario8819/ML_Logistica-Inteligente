{
 "cells": [
  {
   "cell_type": "code",
   "execution_count": null,
   "id": "49dddc30",
   "metadata": {},
   "outputs": [],
   "source": []
  },
  {
   "cell_type": "code",
   "execution_count": 1,
   "id": "43558425",
   "metadata": {},
   "outputs": [],
   "source": [
    "import os\n",
    "import numpy as np\n",
    "import pandas as pd\n",
    "import seaborn as sns\n",
    "\n",
    "df_log= pd.read_csv(\"./data/Train.csv\")"
   ]
  },
  {
   "cell_type": "code",
   "execution_count": 2,
   "id": "b72c1a21",
   "metadata": {},
   "outputs": [
    {
     "name": "stdout",
     "output_type": "stream",
     "text": [
      "✅ Muestra guardada exitosamente en: /src/data_sample/ecommerce_shipping_sample.csv\n"
     ]
    }
   ],
   "source": [
    "\n",
    "# Crear el directorio si no existe\n",
    "output_dir = \"./src/data_sample\"\n",
    "os.makedirs(output_dir, exist_ok=True)\n",
    "\n",
    "# Crear una muestra (por ejemplo, el 10% o un máximo de 500 filas)\n",
    "data_sample = df_log.sample(n=500, random_state=42)  # Puedes ajustar el tamaño según te convenga\n",
    "\n",
    "# Guardar la muestra en CSV\n",
    "data_sample.to_csv(f\"{output_dir}/ecommerce_shipping_sample.csv\", index=False)\n",
    "\n",
    "print(\"✅ Muestra guardada exitosamente en: /src/data_sample/ecommerce_shipping_sample.csv\")"
   ]
  }
 ],
 "metadata": {
  "kernelspec": {
   "display_name": "Python 3",
   "language": "python",
   "name": "python3"
  },
  "language_info": {
   "codemirror_mode": {
    "name": "ipython",
    "version": 3
   },
   "file_extension": ".py",
   "mimetype": "text/x-python",
   "name": "python",
   "nbconvert_exporter": "python",
   "pygments_lexer": "ipython3",
   "version": "3.10.11"
  }
 },
 "nbformat": 4,
 "nbformat_minor": 5
}
